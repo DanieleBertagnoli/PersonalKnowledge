{
 "cells": [
  {
   "cell_type": "markdown",
   "metadata": {},
   "source": [
    "# CNN classification\n",
    "\n",
    "This code has been developed starting from the the online [Pytorch Full Course video](https://www.youtube.com/watch?v=V_xro1bcAuA&t=53736s). This is done for making some practice in developing models from scratch using `torch` and `torchvision` libraries."
   ]
  },
  {
   "cell_type": "code",
   "execution_count": null,
   "metadata": {},
   "outputs": [],
   "source": [
    "from torchvision import datasets, transforms\n",
    "from torchvision.transforms import ToTensor\n",
    "\n",
    "from matplotlib import pyplot as plt\n",
    "\n",
    "import os\n",
    "from random import randint"
   ]
  },
  {
   "cell_type": "markdown",
   "metadata": {},
   "source": [
    "## Dataset\n",
    "For the example we'll use the `FashionMNIST` dataset directly available in `torchvision.datasets`.\n",
    "\n",
    "### Load and visualize the dataset"
   ]
  },
  {
   "cell_type": "code",
   "execution_count": null,
   "metadata": {},
   "outputs": [],
   "source": [
    "download = True if os.path.exists('Datasets/FashionMNIST') else False\n",
    "\n",
    "# Load the training and testing dataset\n",
    "train_dataset = datasets.FashionMNIST(download=True, root='Datasets', target_transform=None, transform=ToTensor(), train=True)\n",
    "test_dataset = datasets.FashionMNIST(download=True, root='Datasets', target_transform=None, transform=ToTensor(), train=False)\n",
    "\n",
    "# Print dataset infos\n",
    "print(f'Dataset Infos:\\n\\n{train_dataset}\\n\\n{test_dataset}')\n",
    "print(f'\\nClasses: {train_dataset.class_to_idx}')\n",
    "print(f'\\nData shape ((CxHxW), class), e.g. ({train_dataset[0][0].shape}, {train_dataset[0][1]})')\n",
    "\n",
    "# Print some examples\n",
    "fig = plt.figure(figsize=(9,9))\n",
    "rows, cols = 4,4\n",
    "for i in range(1, rows*cols+1):\n",
    "    index = randint(0, len(train_dataset))\n",
    "    img, label = train_dataset[index]\n",
    "    fig.add_subplot(rows, cols, i)\n",
    "    plt.imshow(img.squeeze(), cmap='gray')\n",
    "    plt.title(train_dataset.classes[label])\n",
    "    plt.axis(False)"
   ]
  },
  {
   "cell_type": "markdown",
   "metadata": {},
   "source": [
    "### Create a DataLoader\n",
    "The dataloader is a python iterable, in this case we want to turn create batches of data. "
   ]
  },
  {
   "cell_type": "code",
   "execution_count": null,
   "metadata": {},
   "outputs": [],
   "source": [
    "from torch.utils.data import DataLoader\n",
    "import yaml\n",
    "\n",
    "with open('./configs.yml', 'r') as f:\n",
    "    configs = yaml.safe_load(f)\n",
    "    f.close()\n",
    "\n",
    "print(f'Loaded configuration from configs.yml:\\n{configs}')\n",
    "\n",
    "train_dataloader = DataLoader(dataset=train_dataset, batch_size=configs['batch_size'], shuffle=True, num_workers=2)\n",
    "test_dataloader = DataLoader(dataset=test_dataset, batch_size=configs['batch_size'], shuffle=False, num_workers=2)\n",
    "\n",
    "imgs_batch_example, labels_batch_example = next(iter(train_dataloader))\n",
    "print(f'\\nBatches shape (img_batches, labels_batches): ({imgs_batch_example.shape}, {labels_batch_example.shape})')"
   ]
  },
  {
   "cell_type": "markdown",
   "metadata": {},
   "source": [
    "## Model\n",
    "\n",
    "The implemented models are some simple CNN architectures available in `models.py` file.\n",
    "\n",
    "### Import the model"
   ]
  },
  {
   "cell_type": "code",
   "execution_count": null,
   "metadata": {},
   "outputs": [],
   "source": [
    "from models import FashionModelV0\n",
    "\n",
    "output_shape = len(train_dataset.classes)\n",
    "width, heigth = (imgs_batch_example.shape[2], imgs_batch_example.shape[3])\n",
    "device = configs['device']\n",
    "\n",
    "model = FashionModelV0(img_width=width, img_height=heigth, hidden_units=configs['hidden_units'], output_shape=output_shape).to(device)"
   ]
  },
  {
   "cell_type": "markdown",
   "metadata": {},
   "source": [
    "### Setup the loss, optimizer and evaluation metrics"
   ]
  },
  {
   "cell_type": "code",
   "execution_count": null,
   "metadata": {},
   "outputs": [],
   "source": [
    "import torch\n",
    "from torch import nn\n",
    "\n",
    "from evaluation import evaluate_model\n",
    "\n",
    "loss_fn = nn.CrossEntropyLoss()\n",
    "optimizer = torch.optim.SGD(params=model.parameters(), lr=configs['lr'])"
   ]
  },
  {
   "cell_type": "markdown",
   "metadata": {},
   "source": [
    "### Create a training and testing loop"
   ]
  },
  {
   "cell_type": "code",
   "execution_count": null,
   "metadata": {},
   "outputs": [],
   "source": [
    "from tqdm import tqdm\n",
    "\n",
    "epochs = configs['epochs']\n",
    "for epoch in tqdm(range(epochs)):\n",
    "    print(f'\\n\\n----Starting epoch {epoch}----\\n')\n",
    "\n",
    "    train_loss = 0\n",
    "    for batch_idx, (images, labels) in enumerate(train_dataloader):\n",
    "        model.train()\n",
    "        \n",
    "        # Move data to the correct device\n",
    "        images, labels = images.to(device), labels.to(device)\n",
    "\n",
    "        # Forward pass\n",
    "        predictions = model(images) \n",
    "        \n",
    "        # Loss calculation\n",
    "        loss = loss_fn(predictions, labels)\n",
    "        train_loss += loss\n",
    "\n",
    "        # Optimizer zero grad\n",
    "        optimizer.zero_grad()\n",
    "\n",
    "        # Backpropagation\n",
    "        loss.backward()\n",
    "\n",
    "        # Optimizer optimization \n",
    "        optimizer.step()\n",
    "    \n",
    "    # Adjust the traing loss doing the average of the loss per epoch\n",
    "    train_loss = train_loss/len(train_dataloader)\n",
    "    \n",
    "    # Testing\n",
    "    test_results = evaluate_model(model, loss_fn, test_dataloader, device)\n",
    "    print(test_results)\n"
   ]
  },
  {
   "cell_type": "code",
   "execution_count": null,
   "metadata": {},
   "outputs": [],
   "source": []
  }
 ],
 "metadata": {
  "kernelspec": {
   "display_name": "venv",
   "language": "python",
   "name": "python3"
  },
  "language_info": {
   "codemirror_mode": {
    "name": "ipython",
    "version": 3
   },
   "file_extension": ".py",
   "mimetype": "text/x-python",
   "name": "python",
   "nbconvert_exporter": "python",
   "pygments_lexer": "ipython3",
   "version": "3.10.12"
  }
 },
 "nbformat": 4,
 "nbformat_minor": 2
}
